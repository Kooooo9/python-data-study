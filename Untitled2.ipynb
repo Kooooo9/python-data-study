{
 "cells": [
  {
   "cell_type": "code",
   "execution_count": null,
   "id": "95c7518a-5641-49c2-9916-3e8b038dd95c",
   "metadata": {},
   "outputs": [],
   "source": []
  }
 ],
 "metadata": {
  "kernelspec": {
   "display_name": "",
   "name": ""
  },
  "language_info": {
   "name": ""
  }
 },
 "nbformat": 4,
 "nbformat_minor": 5
}
