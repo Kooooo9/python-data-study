{
 "cells": [
  {
   "cell_type": "code",
   "execution_count": null,
   "id": "cec2dfd8-0af9-4d02-a3b7-1bd6b31ac55a",
   "metadata": {},
   "outputs": [],
   "source": []
  },
  {
   "cell_type": "markdown",
   "id": "5d33fb01-86bc-40ff-8865-0457883833ad",
   "metadata": {},
   "source": [
    "## 제목\n",
    "### 제목2\n",
    "마크다운이란? html과 비슷하게 텍스트를 작성하는 언어\n",
    "# * 기호로 제목이나 목록을 작성할 수 있다"
   ]
  },
  {
   "cell_type": "code",
   "execution_count": 7,
   "id": "902d8199-62a7-4752-9fd4-62861e8647ab",
   "metadata": {},
   "outputs": [],
   "source": [
    "a = 5"
   ]
  },
  {
   "cell_type": "code",
   "execution_count": 8,
   "id": "65b28bcd-cc3e-453a-b272-5d486d66d897",
   "metadata": {},
   "outputs": [
    {
     "data": {
      "text/plain": [
       "5"
      ]
     },
     "execution_count": 8,
     "metadata": {},
     "output_type": "execute_result"
    }
   ],
   "source": [
    "a"
   ]
  },
  {
   "cell_type": "code",
   "execution_count": 9,
   "id": "0f969f39-958a-4d85-998f-fe62e6bf9c62",
   "metadata": {},
   "outputs": [],
   "source": [
    "var1 = 10\n",
    "var2 = 20"
   ]
  },
  {
   "cell_type": "code",
   "execution_count": 10,
   "id": "efdab6b9-e838-40cc-ad1a-467fe147c69c",
   "metadata": {},
   "outputs": [
    {
     "data": {
      "text/plain": [
       "10"
      ]
     },
     "execution_count": 10,
     "metadata": {},
     "output_type": "execute_result"
    }
   ],
   "source": [
    "var1"
   ]
  },
  {
   "cell_type": "code",
   "execution_count": null,
   "id": "a393d0fd-97f9-4152-b9fc-2878e1cae094",
   "metadata": {},
   "outputs": [],
   "source": []
  },
  {
   "cell_type": "code",
   "execution_count": null,
   "id": "1d9ffa0e-4722-4e29-b787-8c045d116aaa",
   "metadata": {},
   "outputs": [],
   "source": []
  },
  {
   "cell_type": "code",
   "execution_count": null,
   "id": "3b04391c-b891-4932-b4b1-225ef60bc032",
   "metadata": {},
   "outputs": [],
   "source": []
  },
  {
   "cell_type": "code",
   "execution_count": null,
   "id": "4168f045-db87-4b72-a90b-9d566d025dfe",
   "metadata": {},
   "outputs": [],
   "source": []
  },
  {
   "cell_type": "code",
   "execution_count": null,
   "id": "76e73551-e4c8-41f8-9da9-dcd928e2cc8b",
   "metadata": {},
   "outputs": [],
   "source": []
  },
  {
   "cell_type": "code",
   "execution_count": null,
   "id": "9f0f55ef-d788-4cb0-b741-904580e951e7",
   "metadata": {},
   "outputs": [],
   "source": []
  }
 ],
 "metadata": {
  "kernelspec": {
   "display_name": "Python 3 (ipykernel)",
   "language": "python",
   "name": "python3"
  },
  "language_info": {
   "codemirror_mode": {
    "name": "ipython",
    "version": 3
   },
   "file_extension": ".py",
   "mimetype": "text/x-python",
   "name": "python",
   "nbconvert_exporter": "python",
   "pygments_lexer": "ipython3",
   "version": "3.10.18"
  }
 },
 "nbformat": 4,
 "nbformat_minor": 5
}
