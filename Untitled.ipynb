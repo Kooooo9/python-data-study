{
 "cells": [
  {
   "cell_type": "markdown",
   "id": "0a27af2d-f23f-40e3-85ca-d2f8fba5ff00",
   "metadata": {},
   "source": [
    "### 판다스 (pandas)\n",
    "데이터를 관리하기 위한 모듈로, 시리즈와 데이터 프레임을 제공함"
   ]
  },
  {
   "cell_type": "code",
   "execution_count": 1,
   "id": "7a3d095d-a6a5-40d7-a6ee-478c08690ffc",
   "metadata": {},
   "outputs": [],
   "source": [
    "# 모듈 불러오기\n",
    "# 넘파이 모듈을 np라고 부른다\n",
    "import numpy as np\n",
    "# 판다스 모듈을 pd라고 부른다\n",
    "import pandas as pd"
   ]
  },
  {
   "cell_type": "markdown",
   "id": "b31c1f2b-25f7-4916-8faa-fdc489e5129b",
   "metadata": {},
   "source": [
    "#### 4.1 시리즈(series)\n",
    "<small>\n",
    "데이터를 한줄로 담는 자료 구조<br>      \n",
    "리스트와 다른 점은 데이터에 이름표를 붙일 수 있다 (index)\n",
    "</small>"
   ]
  },
  {
   "cell_type": "code",
   "execution_count": 4,
   "id": "604250aa-b6ed-447c-ab72-4b3edc261dfb",
   "metadata": {},
   "outputs": [
    {
     "name": "stdout",
     "output_type": "stream",
     "text": [
      "0    1\n",
      "1    2\n",
      "2    3\n",
      "3    4\n",
      "dtype: int64\n"
     ]
    },
    {
     "data": {
      "text/plain": [
       "RangeIndex(start=0, stop=4, step=1)"
      ]
     },
     "execution_count": 4,
     "metadata": {},
     "output_type": "execute_result"
    }
   ],
   "source": [
    "# 시리즈 생성1\n",
    "s = pd.Series([1,2,3,4])\n",
    "print(s)\n",
    "# 인덱스가 자동으로 설정됨 (0~3)\n",
    "# 시리즈의 인덱스 확인\n",
    "s.index"
   ]
  },
  {
   "cell_type": "code",
   "execution_count": 8,
   "id": "fd4ce2eb-e679-4886-8290-e8d4e78f8d35",
   "metadata": {},
   "outputs": [
    {
     "name": "stdout",
     "output_type": "stream",
     "text": [
      "RangeIndex(start=0, stop=2, step=1)\n",
      "Index(['city', 'pop'], dtype='object')\n"
     ]
    },
    {
     "data": {
      "text/html": [
       "<div>\n",
       "<style scoped>\n",
       "    .dataframe tbody tr th:only-of-type {\n",
       "        vertical-align: middle;\n",
       "    }\n",
       "\n",
       "    .dataframe tbody tr th {\n",
       "        vertical-align: top;\n",
       "    }\n",
       "\n",
       "    .dataframe thead th {\n",
       "        text-align: right;\n",
       "    }\n",
       "</style>\n",
       "<table border=\"1\" class=\"dataframe\">\n",
       "  <thead>\n",
       "    <tr style=\"text-align: right;\">\n",
       "      <th></th>\n",
       "      <th>city</th>\n",
       "      <th>pop</th>\n",
       "    </tr>\n",
       "  </thead>\n",
       "  <tbody>\n",
       "    <tr>\n",
       "      <th>0</th>\n",
       "      <td>서울</td>\n",
       "      <td>990</td>\n",
       "    </tr>\n",
       "    <tr>\n",
       "      <th>1</th>\n",
       "      <td>인천</td>\n",
       "      <td>240</td>\n",
       "    </tr>\n",
       "  </tbody>\n",
       "</table>\n",
       "</div>"
      ],
      "text/plain": [
       "  city  pop\n",
       "0   서울  990\n",
       "1   인천  240"
      ]
     },
     "execution_count": 8,
     "metadata": {},
     "output_type": "execute_result"
    }
   ],
   "source": [
    "# 도시별 인구 데이터를 담은 데이터 프레임 생성\n",
    "# 데이터 먼저 만들기( dci)\n",
    "data = { 'city' : ['서울', '인천'],\n",
    "       'pop' : [990, 240]\n",
    "       }\n",
    "# pd.DataFrame(값, [인덱스], [컬럼])\n",
    "df = pd.DataFrame(data)\n",
    "df\n",
    "\n",
    "# 행열의 이름을 따로 설정하지 않으면 자동으로 설정됨\n",
    "print(df.index) # 행 이름: 0,1\n",
    "print(df.columns) # 열 이름: dic의 key (city, pop)\n",
    "df"
   ]
  },
  {
   "cell_type": "markdown",
   "id": "0323ff20-e8db-4a31-981e-36bdc0a295eb",
   "metadata": {},
   "source": [
    "데이터 프레임 생성2"
   ]
  },
  {
   "cell_type": "code",
   "execution_count": 62,
   "id": "8a56424b-6ea5-4a1d-bacb-44308ce00a2e",
   "metadata": {},
   "outputs": [
    {
     "name": "stdout",
     "output_type": "stream",
     "text": [
      "[[ 60  70  80]\n",
      " [ 70  80  90]\n",
      " [ 80  90 100]]\n"
     ]
    },
    {
     "data": {
      "text/plain": [
       "Index(['국어', '영어', '수학'], dtype='object')"
      ]
     },
     "execution_count": 62,
     "metadata": {},
     "output_type": "execute_result"
    }
   ],
   "source": [
    "# 학생 성적 데이터 만들기\n",
    "# dic, list\n",
    "# 넘파이의 다차원 배열 사용하여 2차원 배열 생성\n",
    "data = np.array([[60,70,80],[70,80,90],[80,90,100]])\n",
    "print(data)\n",
    "# 성적 데이터를 담아서 데이터 프레임 생성\n",
    "# 이 점수가 누구의 어떤 점수인지 알기 위해, 이름표 붙이기\n",
    "# 행 이름: 학생의 이름\n",
    "# 열 이름: 과목명\n",
    "df = pd.DataFrame(data, \n",
    "                  index=['둘리', '또치', '도우너'], \n",
    "                  columns=['국어','영어','수학'])\n",
    "# 행 인덱스\n",
    "df.index\n",
    "df.columns"
   ]
  },
  {
   "cell_type": "markdown",
   "id": "1dfe34a4-279c-45fc-b4ef-0f0f978ac12a",
   "metadata": {},
   "source": [
    "데이터 프레임에서 데이터 꺼내기<br>\n",
    "<small>\n",
    "loc: 행열 이름으로 데이터를 꺼낸다<br>\n",
    "iloc: 행열 위치로 데이터를 꺼낸다<br>\n",
    "[]: 행열 이름으로 데이터를 꺼낸다<br>\n",
    "</small>"
   ]
  },
  {
   "cell_type": "code",
   "execution_count": 21,
   "id": "a2f706cf-407b-4b9f-8d87-08309dd86091",
   "metadata": {},
   "outputs": [
    {
     "name": "stdout",
     "output_type": "stream",
     "text": [
      "     국어  영어   수학\n",
      "둘리   60  70   80\n",
      "또치   70  80   90\n",
      "도우너  80  90  100\n"
     ]
    },
    {
     "data": {
      "text/plain": [
       "둘리     70\n",
       "또치     80\n",
       "도우너    90\n",
       "Name: 영어, dtype: int64"
      ]
     },
     "execution_count": 21,
     "metadata": {},
     "output_type": "execute_result"
    }
   ],
   "source": [
    "print(df)\n",
    "# loc[ 행이름, 열이름]\n",
    "df.loc[:, :]\n",
    "# 둘리의 국어 점수 \n",
    "df.loc['둘리','국어']\n",
    "# 도우너의 수학 점수\n",
    "df.loc['도우너','수학']\n",
    "\n",
    "# 프레임에서 []대괄호를 쓰면, 열만 입력 가능\n",
    "# [열이름]\n",
    "# 모든 학생의 국어 점수\n",
    "df['국어']\n",
    "# 모든 학생의 영어 점수\n",
    "df['영어']"
   ]
  },
  {
   "cell_type": "markdown",
   "id": "79099e59-076e-48dc-b0dd-a8b417580f85",
   "metadata": {},
   "source": [
    "데이터 프레임에 새로운 열 추가"
   ]
  },
  {
   "cell_type": "code",
   "execution_count": 25,
   "id": "40a2061f-7eb8-4b44-ba3f-6def348550ef",
   "metadata": {},
   "outputs": [
    {
     "data": {
      "text/html": [
       "<div>\n",
       "<style scoped>\n",
       "    .dataframe tbody tr th:only-of-type {\n",
       "        vertical-align: middle;\n",
       "    }\n",
       "\n",
       "    .dataframe tbody tr th {\n",
       "        vertical-align: top;\n",
       "    }\n",
       "\n",
       "    .dataframe thead th {\n",
       "        text-align: right;\n",
       "    }\n",
       "</style>\n",
       "<table border=\"1\" class=\"dataframe\">\n",
       "  <thead>\n",
       "    <tr style=\"text-align: right;\">\n",
       "      <th></th>\n",
       "      <th>국어</th>\n",
       "      <th>영어</th>\n",
       "      <th>미술</th>\n",
       "      <th>수학</th>\n",
       "      <th>과학</th>\n",
       "    </tr>\n",
       "  </thead>\n",
       "  <tbody>\n",
       "    <tr>\n",
       "      <th>둘리</th>\n",
       "      <td>60</td>\n",
       "      <td>70</td>\n",
       "      <td>70</td>\n",
       "      <td>80</td>\n",
       "      <td>60</td>\n",
       "    </tr>\n",
       "    <tr>\n",
       "      <th>또치</th>\n",
       "      <td>70</td>\n",
       "      <td>80</td>\n",
       "      <td>80</td>\n",
       "      <td>90</td>\n",
       "      <td>70</td>\n",
       "    </tr>\n",
       "    <tr>\n",
       "      <th>도우너</th>\n",
       "      <td>80</td>\n",
       "      <td>90</td>\n",
       "      <td>90</td>\n",
       "      <td>100</td>\n",
       "      <td>80</td>\n",
       "    </tr>\n",
       "  </tbody>\n",
       "</table>\n",
       "</div>"
      ],
      "text/plain": [
       "     국어  영어  미술   수학  과학\n",
       "둘리   60  70  70   80  60\n",
       "또치   70  80  80   90  70\n",
       "도우너  80  90  90  100  80"
      ]
     },
     "execution_count": 25,
     "metadata": {},
     "output_type": "execute_result"
    }
   ],
   "source": [
    "# 새로운 과목 추가\n",
    "# 새로운 열 = 리스트\n",
    "df['과학'] = [60,70,80]\n",
    "df\n",
    "# 이번에는 2번째 위치에 '미술' 과목을 추가\n",
    "# insert(위치, 컬럼명, 값 리스트)\n",
    "df.insert(2, '미술', [70,80,90])\n",
    "df"
   ]
  },
  {
   "cell_type": "markdown",
   "id": "840e1251-2bc3-4632-ab0f-b3a1ffd54214",
   "metadata": {},
   "source": [
    "데이터 프레임에서 열 삭제  \n",
    "<small>\n",
    "del: 원본에서 바로 삭제<br>\n",
    "drop: 원본은 그대로, 결과만 보여줌\n",
    "</small>"
   ]
  },
  {
   "cell_type": "code",
   "execution_count": 63,
   "id": "4fb439af-d46e-4fb2-ba5d-a95c0d68c379",
   "metadata": {},
   "outputs": [
    {
     "name": "stdout",
     "output_type": "stream",
     "text": [
      "     국어  영어   수학\n",
      "둘리   60  70   80\n",
      "또치   70  80   90\n",
      "도우너  80  90  100\n",
      "     국어  영어   수학\n",
      "둘리   60  70   80\n",
      "도우너  80  90  100\n"
     ]
    },
    {
     "data": {
      "text/html": [
       "<div>\n",
       "<style scoped>\n",
       "    .dataframe tbody tr th:only-of-type {\n",
       "        vertical-align: middle;\n",
       "    }\n",
       "\n",
       "    .dataframe tbody tr th {\n",
       "        vertical-align: top;\n",
       "    }\n",
       "\n",
       "    .dataframe thead th {\n",
       "        text-align: right;\n",
       "    }\n",
       "</style>\n",
       "<table border=\"1\" class=\"dataframe\">\n",
       "  <thead>\n",
       "    <tr style=\"text-align: right;\">\n",
       "      <th></th>\n",
       "      <th>국어</th>\n",
       "      <th>영어</th>\n",
       "      <th>수학</th>\n",
       "    </tr>\n",
       "  </thead>\n",
       "  <tbody>\n",
       "    <tr>\n",
       "      <th>둘리</th>\n",
       "      <td>60</td>\n",
       "      <td>70</td>\n",
       "      <td>80</td>\n",
       "    </tr>\n",
       "    <tr>\n",
       "      <th>또치</th>\n",
       "      <td>70</td>\n",
       "      <td>80</td>\n",
       "      <td>90</td>\n",
       "    </tr>\n",
       "    <tr>\n",
       "      <th>도우너</th>\n",
       "      <td>80</td>\n",
       "      <td>90</td>\n",
       "      <td>100</td>\n",
       "    </tr>\n",
       "  </tbody>\n",
       "</table>\n",
       "</div>"
      ],
      "text/plain": [
       "     국어  영어   수학\n",
       "둘리   60  70   80\n",
       "또치   70  80   90\n",
       "도우너  80  90  100"
      ]
     },
     "execution_count": 63,
     "metadata": {},
     "output_type": "execute_result"
    }
   ],
   "source": [
    "# 과학 과목 삭제\n",
    "# 선택 > 삭제\n",
    "print(df)\n",
    "# del df['과학']\n",
    "\n",
    "# 수학 과목 삭제\n",
    "# axis=1 또는 axis='columns'\n",
    "df.drop('수학', axis=1) #엑시스(축, 방향)\n",
    "df\n",
    "\n",
    "# 또치 학생 삭제 (행 삭제)\n",
    "# axis=0 또는 axis='row'\n",
    "# drop은 원본에 영향 없음\n",
    "# 결과를 원본에 교체\n",
    "result = df.drop('또치', axis=0)\n",
    "print(result)\n",
    "df"
   ]
  },
  {
   "cell_type": "markdown",
   "id": "aaf664ee-fb4f-4f52-8881-057c14d8b58e",
   "metadata": {},
   "source": [
    "### 4.3 데이터 계산과 처리\n",
    "#### 시리즈에서 계산과 조건검색"
   ]
  },
  {
   "cell_type": "code",
   "execution_count": 50,
   "id": "9379d4e8-573a-441e-9f2e-b2b30b07c7ad",
   "metadata": {},
   "outputs": [
    {
     "ename": "SyntaxError",
     "evalue": "invalid syntax. Maybe you meant '==' or ':=' instead of '='? (3314979670.py, line 5)",
     "output_type": "error",
     "traceback": [
      "\u001b[1;36m  Cell \u001b[1;32mIn[50], line 5\u001b[1;36m\u001b[0m\n\u001b[1;33m    if lis = i + 1:\u001b[0m\n\u001b[1;37m       ^\u001b[0m\n\u001b[1;31mSyntaxError\u001b[0m\u001b[1;31m:\u001b[0m invalid syntax. Maybe you meant '==' or ':=' instead of '='?\n"
     ]
    }
   ],
   "source": [
    "# 숫자가 담긴 리스트 생성\n",
    "lis = [-2,-1,0,1,2]\n",
    "# 모든 원소에 1만큼 더하기\n",
    "for i in lis:\n",
    "    print(lis)"
   ]
  },
  {
   "cell_type": "code",
   "execution_count": 51,
   "id": "dbcca72e-6cff-4b9f-bba7-5838928edc64",
   "metadata": {},
   "outputs": [
    {
     "data": {
      "text/plain": [
       "0   -1\n",
       "1    0\n",
       "2    1\n",
       "3    2\n",
       "4    3\n",
       "dtype: int64"
      ]
     },
     "execution_count": 51,
     "metadata": {},
     "output_type": "execute_result"
    }
   ],
   "source": [
    "# 숫자가 담긴 시리즈 생성\n",
    "s = pd.Series([-2,-1,0,1,2])\n",
    "s.add(1)\n",
    "# 모든 원소에 1만큼 더하기\n",
    "# 판다스의 시리즈는 for 없이 반복 수행 가능\n",
    "s + 1"
   ]
  },
  {
   "cell_type": "code",
   "execution_count": 55,
   "id": "421eab40-0465-47a4-b0ef-7237a14926c8",
   "metadata": {},
   "outputs": [
    {
     "data": {
      "text/plain": [
       "3    1\n",
       "4    2\n",
       "dtype: int64"
      ]
     },
     "execution_count": 55,
     "metadata": {},
     "output_type": "execute_result"
    }
   ],
   "source": [
    "s\n",
    "# 조건 검색( 양수만 찾기 )\n",
    "# 불리언 배열 만들기\n",
    "# Series > int => 시리즈의 전체 데이터와 0을 비교\n",
    "s > 0\n",
    "# 불리언 배열은 시리즈의 인덱스로 사용할 수 있다\n",
    "# true인 값만 남음\n",
    "s[s > 0]"
   ]
  },
  {
   "cell_type": "code",
   "execution_count": 61,
   "id": "a86394ad-287e-42a7-a728-5f702ddd747c",
   "metadata": {},
   "outputs": [
    {
     "data": {
      "text/plain": [
       "1     2\n",
       "3     4\n",
       "5     6\n",
       "7     8\n",
       "9    10\n",
       "dtype: int64"
      ]
     },
     "execution_count": 61,
     "metadata": {},
     "output_type": "execute_result"
    }
   ],
   "source": [
    "# 조건검색2 (짝수만 찾기)\n",
    "s = pd.Series(np.arange(1,11))\n",
    "s\n",
    "# 짝수만 찾기\n",
    "s%2 == 0\n",
    "# bool 배열을 시리즈의 인덱스로 사용\n",
    "s[s%2 == 0]"
   ]
  },
  {
   "cell_type": "markdown",
   "id": "937ea8f7-8f61-4f42-bf5c-100d0cef03ed",
   "metadata": {},
   "source": [
    "데이터 프레임의 정렬  \n",
    "<small>\n",
    "시험 성적 순위를 매길 때 사용\n",
    "</small>"
   ]
  },
  {
   "cell_type": "code",
   "execution_count": 66,
   "id": "3dc4a907-d515-4429-9dce-9ad71b019049",
   "metadata": {},
   "outputs": [
    {
     "data": {
      "text/html": [
       "<div>\n",
       "<style scoped>\n",
       "    .dataframe tbody tr th:only-of-type {\n",
       "        vertical-align: middle;\n",
       "    }\n",
       "\n",
       "    .dataframe tbody tr th {\n",
       "        vertical-align: top;\n",
       "    }\n",
       "\n",
       "    .dataframe thead th {\n",
       "        text-align: right;\n",
       "    }\n",
       "</style>\n",
       "<table border=\"1\" class=\"dataframe\">\n",
       "  <thead>\n",
       "    <tr style=\"text-align: right;\">\n",
       "      <th></th>\n",
       "      <th>국어</th>\n",
       "      <th>영어</th>\n",
       "      <th>수학</th>\n",
       "    </tr>\n",
       "  </thead>\n",
       "  <tbody>\n",
       "    <tr>\n",
       "      <th>도우너</th>\n",
       "      <td>80</td>\n",
       "      <td>90</td>\n",
       "      <td>100</td>\n",
       "    </tr>\n",
       "    <tr>\n",
       "      <th>또치</th>\n",
       "      <td>70</td>\n",
       "      <td>80</td>\n",
       "      <td>90</td>\n",
       "    </tr>\n",
       "    <tr>\n",
       "      <th>둘리</th>\n",
       "      <td>60</td>\n",
       "      <td>70</td>\n",
       "      <td>80</td>\n",
       "    </tr>\n",
       "  </tbody>\n",
       "</table>\n",
       "</div>"
      ],
      "text/plain": [
       "     국어  영어   수학\n",
       "도우너  80  90  100\n",
       "또치   70  80   90\n",
       "둘리   60  70   80"
      ]
     },
     "execution_count": 66,
     "metadata": {},
     "output_type": "execute_result"
    }
   ],
   "source": [
    "# 시험 성적에서 국어 점수를 기준으로 정렬\n",
    "df.sort_values('국어')\n",
    "# 국어 점수를 기준으로 내림차순 정렬\n",
    "# 정렬 기준: 오름차순 (1->10) / 내림차순 (10->1)\n",
    "# ascending: 오름차순 (True) 내림차순(False)\n",
    "df.sort_values('국어', ascending=False)"
   ]
  },
  {
   "cell_type": "code",
   "execution_count": 73,
   "id": "287db493-247c-4933-97d5-10a1efd64365",
   "metadata": {},
   "outputs": [
    {
     "name": "stdout",
     "output_type": "stream",
     "text": [
      "     수학  영어  과학\n",
      "둘리   71  72  67\n",
      "또치   70  97  90\n",
      "도우너  80  90  68\n"
     ]
    },
    {
     "data": {
      "text/html": [
       "<div>\n",
       "<style scoped>\n",
       "    .dataframe tbody tr th:only-of-type {\n",
       "        vertical-align: middle;\n",
       "    }\n",
       "\n",
       "    .dataframe tbody tr th {\n",
       "        vertical-align: top;\n",
       "    }\n",
       "\n",
       "    .dataframe thead th {\n",
       "        text-align: right;\n",
       "    }\n",
       "</style>\n",
       "<table border=\"1\" class=\"dataframe\">\n",
       "  <thead>\n",
       "    <tr style=\"text-align: right;\">\n",
       "      <th></th>\n",
       "      <th>수학</th>\n",
       "      <th>영어</th>\n",
       "      <th>과학</th>\n",
       "    </tr>\n",
       "  </thead>\n",
       "  <tbody>\n",
       "    <tr>\n",
       "      <th>또치</th>\n",
       "      <td>70</td>\n",
       "      <td>97</td>\n",
       "      <td>90</td>\n",
       "    </tr>\n",
       "    <tr>\n",
       "      <th>도우너</th>\n",
       "      <td>80</td>\n",
       "      <td>90</td>\n",
       "      <td>68</td>\n",
       "    </tr>\n",
       "    <tr>\n",
       "      <th>둘리</th>\n",
       "      <td>71</td>\n",
       "      <td>72</td>\n",
       "      <td>67</td>\n",
       "    </tr>\n",
       "  </tbody>\n",
       "</table>\n",
       "</div>"
      ],
      "text/plain": [
       "     수학  영어  과학\n",
       "또치   70  97  90\n",
       "도우너  80  90  68\n",
       "둘리   71  72  67"
      ]
     },
     "execution_count": 73,
     "metadata": {},
     "output_type": "execute_result"
    }
   ],
   "source": [
    "# 학생 데이터 생성\n",
    "data = np.random.randint(60,100,9)\n",
    "\n",
    "arr = data.reshape(3,3)\n",
    "arr\n",
    "# 프레임 생성\n",
    "df = pd.DataFrame(arr, \n",
    "                  index=['둘리','또치','도우너'],\n",
    "                  columns=['수학','영어','과학'])\n",
    "print(df)\n",
    "df.sort_values('영어', ascending=False)"
   ]
  },
  {
   "cell_type": "markdown",
   "id": "02b6cbf3-494b-464d-a207-4ddb69a02e79",
   "metadata": {},
   "source": [
    "nan 처리  \n",
    "<small>\n",
    "    누락된 값, 빈값<br>\n",
    "    예를 들어 엑셀에서 빈셀을 표현 할 때 사용<br>\n",
    "    nan은 float타입에서만 표현 가능<br>\n",
    "    </small>"
   ]
  },
  {
   "cell_type": "code",
   "execution_count": 74,
   "id": "e4baa9ec-b9fd-43a1-80ea-ba85b5797973",
   "metadata": {},
   "outputs": [
    {
     "data": {
      "text/html": [
       "<div>\n",
       "<style scoped>\n",
       "    .dataframe tbody tr th:only-of-type {\n",
       "        vertical-align: middle;\n",
       "    }\n",
       "\n",
       "    .dataframe tbody tr th {\n",
       "        vertical-align: top;\n",
       "    }\n",
       "\n",
       "    .dataframe thead th {\n",
       "        text-align: right;\n",
       "    }\n",
       "</style>\n",
       "<table border=\"1\" class=\"dataframe\">\n",
       "  <thead>\n",
       "    <tr style=\"text-align: right;\">\n",
       "      <th></th>\n",
       "      <th>수학</th>\n",
       "      <th>영어</th>\n",
       "      <th>과학</th>\n",
       "    </tr>\n",
       "  </thead>\n",
       "  <tbody>\n",
       "    <tr>\n",
       "      <th>둘리</th>\n",
       "      <td>71</td>\n",
       "      <td>72</td>\n",
       "      <td>67</td>\n",
       "    </tr>\n",
       "    <tr>\n",
       "      <th>또치</th>\n",
       "      <td>70</td>\n",
       "      <td>97</td>\n",
       "      <td>90</td>\n",
       "    </tr>\n",
       "    <tr>\n",
       "      <th>도우너</th>\n",
       "      <td>80</td>\n",
       "      <td>90</td>\n",
       "      <td>68</td>\n",
       "    </tr>\n",
       "  </tbody>\n",
       "</table>\n",
       "</div>"
      ],
      "text/plain": [
       "     수학  영어  과학\n",
       "둘리   71  72  67\n",
       "또치   70  97  90\n",
       "도우너  80  90  68"
      ]
     },
     "execution_count": 74,
     "metadata": {},
     "output_type": "execute_result"
    }
   ],
   "source": [
    "df"
   ]
  },
  {
   "cell_type": "code",
   "execution_count": 77,
   "id": "ee2a601e-c0df-4a07-a3df-5db0c8d8fbc1",
   "metadata": {},
   "outputs": [
    {
     "data": {
      "text/plain": [
       "dtype('float64')"
      ]
     },
     "execution_count": 77,
     "metadata": {},
     "output_type": "execute_result"
    }
   ],
   "source": [
    "# 둘리의 영어점수를 빈값(nan)으로 표시\n",
    "# 빈값을 넣으면 해당 값이 들어간 열이 float 타입으로 자동 형변환됨\n",
    "df.loc['둘리','영어'] = np.nan\n",
    "df['영어'].dtype"
   ]
  },
  {
   "cell_type": "code",
   "execution_count": 80,
   "id": "480de5bb-727b-4d34-b837-c4b570577764",
   "metadata": {},
   "outputs": [
    {
     "data": {
      "text/html": [
       "<div>\n",
       "<style scoped>\n",
       "    .dataframe tbody tr th:only-of-type {\n",
       "        vertical-align: middle;\n",
       "    }\n",
       "\n",
       "    .dataframe tbody tr th {\n",
       "        vertical-align: top;\n",
       "    }\n",
       "\n",
       "    .dataframe thead th {\n",
       "        text-align: right;\n",
       "    }\n",
       "</style>\n",
       "<table border=\"1\" class=\"dataframe\">\n",
       "  <thead>\n",
       "    <tr style=\"text-align: right;\">\n",
       "      <th></th>\n",
       "      <th>수학</th>\n",
       "      <th>영어</th>\n",
       "      <th>과학</th>\n",
       "    </tr>\n",
       "  </thead>\n",
       "  <tbody>\n",
       "    <tr>\n",
       "      <th>또치</th>\n",
       "      <td>70</td>\n",
       "      <td>97.0</td>\n",
       "      <td>90</td>\n",
       "    </tr>\n",
       "    <tr>\n",
       "      <th>도우너</th>\n",
       "      <td>80</td>\n",
       "      <td>90.0</td>\n",
       "      <td>68</td>\n",
       "    </tr>\n",
       "  </tbody>\n",
       "</table>\n",
       "</div>"
      ],
      "text/plain": [
       "     수학    영어  과학\n",
       "또치   70  97.0  90\n",
       "도우너  80  90.0  68"
      ]
     },
     "execution_count": 80,
     "metadata": {},
     "output_type": "execute_result"
    }
   ],
   "source": [
    "# 점수가 없는 학생 데이터 삭제\n",
    "# 빈값이 있는 행 또는 열 삭제\n",
    "# 엑시스 0 'row' => 행\n",
    "df = df.dropna(axis=0)\n",
    "df"
   ]
  },
  {
   "cell_type": "code",
   "execution_count": 81,
   "id": "ca8e98e2-6081-4a3d-943b-388a23e143cd",
   "metadata": {},
   "outputs": [
    {
     "data": {
      "text/html": [
       "<div>\n",
       "<style scoped>\n",
       "    .dataframe tbody tr th:only-of-type {\n",
       "        vertical-align: middle;\n",
       "    }\n",
       "\n",
       "    .dataframe tbody tr th {\n",
       "        vertical-align: top;\n",
       "    }\n",
       "\n",
       "    .dataframe thead th {\n",
       "        text-align: right;\n",
       "    }\n",
       "</style>\n",
       "<table border=\"1\" class=\"dataframe\">\n",
       "  <thead>\n",
       "    <tr style=\"text-align: right;\">\n",
       "      <th></th>\n",
       "      <th>수학</th>\n",
       "      <th>영어</th>\n",
       "      <th>과학</th>\n",
       "    </tr>\n",
       "  </thead>\n",
       "  <tbody>\n",
       "    <tr>\n",
       "      <th>또치</th>\n",
       "      <td>70</td>\n",
       "      <td>97.0</td>\n",
       "      <td>NaN</td>\n",
       "    </tr>\n",
       "    <tr>\n",
       "      <th>도우너</th>\n",
       "      <td>80</td>\n",
       "      <td>90.0</td>\n",
       "      <td>68.0</td>\n",
       "    </tr>\n",
       "  </tbody>\n",
       "</table>\n",
       "</div>"
      ],
      "text/plain": [
       "     수학    영어    과학\n",
       "또치   70  97.0   NaN\n",
       "도우너  80  90.0  68.0"
      ]
     },
     "execution_count": 81,
     "metadata": {},
     "output_type": "execute_result"
    }
   ],
   "source": [
    "# 또치의 과학 점수를 빈값으로 설정\n",
    "df.loc['또치','과학'] = np.nan\n",
    "df"
   ]
  },
  {
   "cell_type": "code",
   "execution_count": 82,
   "id": "4a7af20e-eff8-4382-a7b9-61c3b2a14b06",
   "metadata": {},
   "outputs": [
    {
     "data": {
      "text/html": [
       "<div>\n",
       "<style scoped>\n",
       "    .dataframe tbody tr th:only-of-type {\n",
       "        vertical-align: middle;\n",
       "    }\n",
       "\n",
       "    .dataframe tbody tr th {\n",
       "        vertical-align: top;\n",
       "    }\n",
       "\n",
       "    .dataframe thead th {\n",
       "        text-align: right;\n",
       "    }\n",
       "</style>\n",
       "<table border=\"1\" class=\"dataframe\">\n",
       "  <thead>\n",
       "    <tr style=\"text-align: right;\">\n",
       "      <th></th>\n",
       "      <th>수학</th>\n",
       "      <th>영어</th>\n",
       "      <th>과학</th>\n",
       "    </tr>\n",
       "  </thead>\n",
       "  <tbody>\n",
       "    <tr>\n",
       "      <th>또치</th>\n",
       "      <td>70</td>\n",
       "      <td>97.0</td>\n",
       "      <td>0.0</td>\n",
       "    </tr>\n",
       "    <tr>\n",
       "      <th>도우너</th>\n",
       "      <td>80</td>\n",
       "      <td>90.0</td>\n",
       "      <td>68.0</td>\n",
       "    </tr>\n",
       "  </tbody>\n",
       "</table>\n",
       "</div>"
      ],
      "text/plain": [
       "     수학    영어    과학\n",
       "또치   70  97.0   0.0\n",
       "도우너  80  90.0  68.0"
      ]
     },
     "execution_count": 82,
     "metadata": {},
     "output_type": "execute_result"
    }
   ],
   "source": [
    "# 비어있는 점수를 모두 0으로 설정\n",
    "df.fillna(0)"
   ]
  },
  {
   "cell_type": "markdown",
   "id": "5c5bb3db-83fd-4899-9236-84eb1c7ae2cb",
   "metadata": {},
   "source": [
    "#### 4.4 데이터 탐색  \n",
    "<small>\n",
    "    데이터의 상태나 특징을 파악하는 작업\n",
    "    </small>"
   ]
  },
  {
   "cell_type": "code",
   "execution_count": 2,
   "id": "075a7e9d-1d08-418d-8591-d706fb1cb869",
   "metadata": {},
   "outputs": [
    {
     "data": {
      "text/plain": [
       "0     사과\n",
       "1      배\n",
       "2     사과\n",
       "3      배\n",
       "4    바나나\n",
       "dtype: object"
      ]
     },
     "execution_count": 2,
     "metadata": {},
     "output_type": "execute_result"
    }
   ],
   "source": [
    "# 과일 목록을 담은 시리즈 생성\n",
    "# 시리즈: 인덱스를 가지고 있는 한줄짜리 데이터\n",
    "s = pd.Series(['사과', '배', '사과', '배', '바나나'])\n",
    "s"
   ]
  },
  {
   "cell_type": "code",
   "execution_count": 3,
   "id": "9abf2dc0-8d1b-41ba-96c7-ccae090ea13a",
   "metadata": {},
   "outputs": [
    {
     "data": {
      "text/plain": [
       "array(['사과', '배', '바나나'], dtype=object)"
      ]
     },
     "execution_count": 3,
     "metadata": {},
     "output_type": "execute_result"
    }
   ],
   "source": [
    "# 중복을 제거하고 유니크한 값만 남기기\n",
    "s.unique()"
   ]
  },
  {
   "cell_type": "code",
   "execution_count": 4,
   "id": "c4edfca3-829e-4f6c-b0be-4ea1219d5f7b",
   "metadata": {},
   "outputs": [
    {
     "data": {
      "text/plain": [
       "사과     2\n",
       "배      2\n",
       "바나나    1\n",
       "Name: count, dtype: int64"
      ]
     },
     "execution_count": 4,
     "metadata": {},
     "output_type": "execute_result"
    }
   ],
   "source": [
    "# 원소별 개수 세기\n",
    "s.value_counts()"
   ]
  },
  {
   "cell_type": "code",
   "execution_count": 5,
   "id": "5d446a8a-99f2-4776-a59c-0ba5eef65d96",
   "metadata": {},
   "outputs": [
    {
     "data": {
      "text/plain": [
       "0    서울\n",
       "1    부산\n",
       "2    서울\n",
       "3    대구\n",
       "4    부산\n",
       "5    광주\n",
       "6    서울\n",
       "dtype: object"
      ]
     },
     "execution_count": 5,
     "metadata": {},
     "output_type": "execute_result"
    }
   ],
   "source": [
    "s = pd.Series(['서울','부산','서울','대구','부산','광주','서울'])\n",
    "s"
   ]
  },
  {
   "cell_type": "code",
   "execution_count": 6,
   "id": "90e496e3-8faa-4c1b-9916-36c130ceeb4e",
   "metadata": {},
   "outputs": [
    {
     "data": {
      "text/plain": [
       "array(['서울', '부산', '대구', '광주'], dtype=object)"
      ]
     },
     "execution_count": 6,
     "metadata": {},
     "output_type": "execute_result"
    }
   ],
   "source": [
    "s.unique()"
   ]
  },
  {
   "cell_type": "code",
   "execution_count": 7,
   "id": "c10e1b30-e20a-4a3c-a28a-55264edee43b",
   "metadata": {},
   "outputs": [
    {
     "data": {
      "text/plain": [
       "서울    3\n",
       "부산    2\n",
       "대구    1\n",
       "광주    1\n",
       "Name: count, dtype: int64"
      ]
     },
     "execution_count": 7,
     "metadata": {},
     "output_type": "execute_result"
    }
   ],
   "source": [
    "s.value_counts()"
   ]
  },
  {
   "cell_type": "code",
   "execution_count": 8,
   "id": "62abfb48-a454-4b00-bd59-d587be8c3de0",
   "metadata": {},
   "outputs": [
    {
     "data": {
      "text/plain": [
       "0    민수\n",
       "1    지연\n",
       "2    철수\n",
       "3    민수\n",
       "4    영희\n",
       "5    민수\n",
       "6    지연\n",
       "dtype: object"
      ]
     },
     "execution_count": 8,
     "metadata": {},
     "output_type": "execute_result"
    }
   ],
   "source": [
    "s = pd.Series(['민수','지연','철수','민수','영희','민수','지연'])\n",
    "s"
   ]
  },
  {
   "cell_type": "code",
   "execution_count": 15,
   "id": "1a8581da-1fc6-4f52-bbbe-fa1e00eef9ac",
   "metadata": {},
   "outputs": [
    {
     "name": "stdout",
     "output_type": "stream",
     "text": [
      "3\n"
     ]
    }
   ],
   "source": [
    "print(max(s.value_counts()))\n"
   ]
  },
  {
   "cell_type": "code",
   "execution_count": null,
   "id": "a02edcdc-9d30-40be-97be-995ad78b34f6",
   "metadata": {},
   "outputs": [],
   "source": []
  }
 ],
 "metadata": {
  "kernelspec": {
   "display_name": "Python 3 (ipykernel)",
   "language": "python",
   "name": "python3"
  },
  "language_info": {
   "codemirror_mode": {
    "name": "ipython",
    "version": 3
   },
   "file_extension": ".py",
   "mimetype": "text/x-python",
   "name": "python",
   "nbconvert_exporter": "python",
   "pygments_lexer": "ipython3",
   "version": "3.10.18"
  }
 },
 "nbformat": 4,
 "nbformat_minor": 5
}
